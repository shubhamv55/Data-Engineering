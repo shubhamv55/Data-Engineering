{
 "cells": [
  {
   "cell_type": "markdown",
   "id": "f89e510e",
   "metadata": {},
   "source": [
    "# NumPy "
   ]
  },
  {
   "cell_type": "markdown",
   "id": "6472fa55",
   "metadata": {},
   "source": [
    "#       **Creating a Numpy Array**"
   ]
  },
  {
   "cell_type": "code",
   "execution_count": 1,
   "id": "f0e5a054",
   "metadata": {},
   "outputs": [],
   "source": [
    "import numpy as np"
   ]
  },
  {
   "cell_type": "code",
   "execution_count": 2,
   "id": "ea71c37e",
   "metadata": {},
   "outputs": [
    {
     "name": "stdout",
     "output_type": "stream",
     "text": [
      "1.20.3\n"
     ]
    }
   ],
   "source": [
    "#To check version\n",
    "print(np.__version__)"
   ]
  },
  {
   "cell_type": "code",
   "execution_count": 3,
   "id": "9920afbd",
   "metadata": {
    "scrolled": true
   },
   "outputs": [
    {
     "name": "stdout",
     "output_type": "stream",
     "text": [
      "12\n"
     ]
    }
   ],
   "source": [
    "#0D array\n",
    "arr = np.array(12)\n",
    "print(arr)"
   ]
  },
  {
   "cell_type": "code",
   "execution_count": 4,
   "id": "ea634f09",
   "metadata": {},
   "outputs": [
    {
     "name": "stdout",
     "output_type": "stream",
     "text": [
      "Rank 1 Array: \n",
      " [1 2 3 4]\n",
      "<class 'numpy.ndarray'>\n"
     ]
    }
   ],
   "source": [
    "#1D array\n",
    "arr = np.array([1, 2, 3, 4])\n",
    "print(\"Rank 1 Array: \\n\",arr)\n",
    "\n",
    "#Type of array\n",
    "print(type(arr))"
   ]
  },
  {
   "cell_type": "code",
   "execution_count": 5,
   "id": "22d122db",
   "metadata": {},
   "outputs": [
    {
     "name": "stdout",
     "output_type": "stream",
     "text": [
      "Rank 2 Array: \n",
      " [[1 2 3]\n",
      " [4 5 6]]\n"
     ]
    }
   ],
   "source": [
    "#2D Array\n",
    "arr = np.array([[1, 2, 3],\n",
    "                [4, 5, 6]])\n",
    "print(\"Rank 2 Array: \\n\", arr)"
   ]
  },
  {
   "cell_type": "code",
   "execution_count": 6,
   "id": "b11eeac7",
   "metadata": {},
   "outputs": [
    {
     "name": "stdout",
     "output_type": "stream",
     "text": [
      "[[[1 2 3]\n",
      "  [4 5 6]]\n",
      "\n",
      " [[1 2 3]\n",
      "  [4 5 6]]]\n"
     ]
    }
   ],
   "source": [
    "#3D Array\n",
    "arr = np.array([[[1, 2, 3], [4, 5, 6]], [[1, 2, 3], [4, 5, 6]]])\n",
    "print(arr)"
   ]
  },
  {
   "cell_type": "code",
   "execution_count": 7,
   "id": "cb29c80c",
   "metadata": {},
   "outputs": [
    {
     "name": "stdout",
     "output_type": "stream",
     "text": [
      "\n",
      "Array created using tuple:\n",
      " [1 2 3 4]\n"
     ]
    }
   ],
   "source": [
    "# Use a tuple to create a NumPy array:\n",
    "arr = np.array((1, 2, 3, 4))\n",
    "print(\"\\nArray created using tuple:\\n\", arr)"
   ]
  },
  {
   "cell_type": "code",
   "execution_count": 8,
   "id": "f86a11d6",
   "metadata": {},
   "outputs": [],
   "source": [
    "#Check Number of Dimensions\n",
    "\n",
    "a = np.array(20)\n",
    "b = np.array([1, 2, 3, 4])\n",
    "c = np.array([[1, 2, 3], [4, 5, 6]])\n",
    "d = np.array([[[1, 2, 3], [4, 5, 6]], [[1, 2, 3], [4, 5, 6]]])\n"
   ]
  },
  {
   "cell_type": "code",
   "execution_count": 9,
   "id": "1f844296",
   "metadata": {},
   "outputs": [
    {
     "name": "stdout",
     "output_type": "stream",
     "text": [
      "0\n",
      "1\n",
      "2\n",
      "3\n"
     ]
    }
   ],
   "source": [
    "print(a.ndim)\n",
    "print(b.ndim)\n",
    "print(c.ndim)\n",
    "print(d.ndim)"
   ]
  },
  {
   "cell_type": "code",
   "execution_count": 10,
   "id": "2fbecb91",
   "metadata": {},
   "outputs": [],
   "source": [
    "zero = np.zeros((2,5))"
   ]
  },
  {
   "cell_type": "code",
   "execution_count": 11,
   "id": "c225d597",
   "metadata": {},
   "outputs": [
    {
     "data": {
      "text/plain": [
       "array([[0., 0., 0., 0., 0.],\n",
       "       [0., 0., 0., 0., 0.]])"
      ]
     },
     "execution_count": 11,
     "metadata": {},
     "output_type": "execute_result"
    }
   ],
   "source": [
    "zero"
   ]
  },
  {
   "cell_type": "code",
   "execution_count": 12,
   "id": "c96e8192",
   "metadata": {},
   "outputs": [],
   "source": [
    "rng = np.arange(15)"
   ]
  },
  {
   "cell_type": "code",
   "execution_count": 13,
   "id": "abcfdf31",
   "metadata": {},
   "outputs": [
    {
     "data": {
      "text/plain": [
       "array([ 0,  1,  2,  3,  4,  5,  6,  7,  8,  9, 10, 11, 12, 13, 14])"
      ]
     },
     "execution_count": 13,
     "metadata": {},
     "output_type": "execute_result"
    }
   ],
   "source": [
    "rng"
   ]
  },
  {
   "cell_type": "code",
   "execution_count": 14,
   "id": "1446a053",
   "metadata": {},
   "outputs": [
    {
     "data": {
      "text/plain": [
       "(15,)"
      ]
     },
     "execution_count": 14,
     "metadata": {},
     "output_type": "execute_result"
    }
   ],
   "source": [
    "rng.shape"
   ]
  },
  {
   "cell_type": "code",
   "execution_count": 15,
   "id": "c6223a38",
   "metadata": {},
   "outputs": [
    {
     "data": {
      "text/plain": [
       "dtype('int32')"
      ]
     },
     "execution_count": 15,
     "metadata": {},
     "output_type": "execute_result"
    }
   ],
   "source": [
    "rng.dtype"
   ]
  },
  {
   "cell_type": "code",
   "execution_count": 16,
   "id": "d26c2660",
   "metadata": {},
   "outputs": [],
   "source": [
    "arr = np.arange(0,21,5)"
   ]
  },
  {
   "cell_type": "code",
   "execution_count": 17,
   "id": "8a8ff87d",
   "metadata": {},
   "outputs": [
    {
     "data": {
      "text/plain": [
       "array([ 0,  5, 10, 15, 20])"
      ]
     },
     "execution_count": 17,
     "metadata": {},
     "output_type": "execute_result"
    }
   ],
   "source": [
    "arr"
   ]
  },
  {
   "cell_type": "code",
   "execution_count": 18,
   "id": "bfc80ccf",
   "metadata": {},
   "outputs": [],
   "source": [
    "lspace = np.linspace(0,100,10)"
   ]
  },
  {
   "cell_type": "code",
   "execution_count": 19,
   "id": "2645f8ec",
   "metadata": {},
   "outputs": [
    {
     "data": {
      "text/plain": [
       "array([  0.        ,  11.11111111,  22.22222222,  33.33333333,\n",
       "        44.44444444,  55.55555556,  66.66666667,  77.77777778,\n",
       "        88.88888889, 100.        ])"
      ]
     },
     "execution_count": 19,
     "metadata": {},
     "output_type": "execute_result"
    }
   ],
   "source": [
    "lspace"
   ]
  },
  {
   "cell_type": "code",
   "execution_count": 20,
   "id": "64dda66b",
   "metadata": {},
   "outputs": [],
   "source": [
    "# To create empty array \n",
    "emp= np.empty((1,5))"
   ]
  },
  {
   "cell_type": "code",
   "execution_count": 21,
   "id": "ba5814d9",
   "metadata": {},
   "outputs": [
    {
     "data": {
      "text/plain": [
       "array([[4.94065646e-324, 2.55227932e-303, 8.88182558e-309,\n",
       "        0.00000000e+000, 1.11253693e-308]])"
      ]
     },
     "execution_count": 21,
     "metadata": {},
     "output_type": "execute_result"
    }
   ],
   "source": [
    "emp"
   ]
  },
  {
   "cell_type": "code",
   "execution_count": 22,
   "id": "9c49bf46",
   "metadata": {},
   "outputs": [],
   "source": [
    "# To create epmty arrya simmilar shape of previously created array\n",
    "emp_like= np.empty_like(lspace)"
   ]
  },
  {
   "cell_type": "code",
   "execution_count": 23,
   "id": "5fe106a7",
   "metadata": {},
   "outputs": [
    {
     "data": {
      "text/plain": [
       "array([  0.        ,  11.11111111,  22.22222222,  33.33333333,\n",
       "        44.44444444,  55.55555556,  66.66666667,  77.77777778,\n",
       "        88.88888889, 100.        ])"
      ]
     },
     "execution_count": 23,
     "metadata": {},
     "output_type": "execute_result"
    }
   ],
   "source": [
    "emp_like"
   ]
  },
  {
   "cell_type": "code",
   "execution_count": 24,
   "id": "df90854b",
   "metadata": {},
   "outputs": [],
   "source": [
    "# To create identical array\n",
    "ide = np.identity((10))"
   ]
  },
  {
   "cell_type": "code",
   "execution_count": 25,
   "id": "e961d868",
   "metadata": {},
   "outputs": [
    {
     "data": {
      "text/plain": [
       "array([[1., 0., 0., 0., 0., 0., 0., 0., 0., 0.],\n",
       "       [0., 1., 0., 0., 0., 0., 0., 0., 0., 0.],\n",
       "       [0., 0., 1., 0., 0., 0., 0., 0., 0., 0.],\n",
       "       [0., 0., 0., 1., 0., 0., 0., 0., 0., 0.],\n",
       "       [0., 0., 0., 0., 1., 0., 0., 0., 0., 0.],\n",
       "       [0., 0., 0., 0., 0., 1., 0., 0., 0., 0.],\n",
       "       [0., 0., 0., 0., 0., 0., 1., 0., 0., 0.],\n",
       "       [0., 0., 0., 0., 0., 0., 0., 1., 0., 0.],\n",
       "       [0., 0., 0., 0., 0., 0., 0., 0., 1., 0.],\n",
       "       [0., 0., 0., 0., 0., 0., 0., 0., 0., 1.]])"
      ]
     },
     "execution_count": 25,
     "metadata": {},
     "output_type": "execute_result"
    }
   ],
   "source": [
    "ide"
   ]
  },
  {
   "cell_type": "code",
   "execution_count": 26,
   "id": "cd55bec7",
   "metadata": {},
   "outputs": [
    {
     "data": {
      "text/plain": [
       "(10, 10)"
      ]
     },
     "execution_count": 26,
     "metadata": {},
     "output_type": "execute_result"
    }
   ],
   "source": [
    "ide.shape"
   ]
  },
  {
   "cell_type": "code",
   "execution_count": 27,
   "id": "10d21a03",
   "metadata": {},
   "outputs": [],
   "source": [
    "arr = np.empty((3,10))"
   ]
  },
  {
   "cell_type": "code",
   "execution_count": 28,
   "id": "c9667a51",
   "metadata": {},
   "outputs": [
    {
     "data": {
      "text/plain": [
       "array([[1.23047129e-311, 1.23044121e-311, 0.00000000e+000,\n",
       "        0.00000000e+000, 1.22863556e-311, 5.02034658e+175,\n",
       "        3.40480892e+175, 4.11771615e-033, 8.24247244e-071,\n",
       "        1.32681178e-047],\n",
       "       [2.59027903e-144, 3.80985069e+180, 1.14428494e+243,\n",
       "        2.59027907e-144, 7.79952704e-143, 1.42423664e+160,\n",
       "        2.57543226e-056, 2.00416439e-052, 1.10610206e+165,\n",
       "        4.99874558e+217],\n",
       "       [5.49419094e-143, 2.91237123e+257, 5.56111702e+180,\n",
       "        5.74015544e+180, 1.94919988e-153, 2.59027858e-144,\n",
       "        2.59903818e-144, 5.27365186e-091, 4.67392686e-062,\n",
       "        1.45003455e-047]])"
      ]
     },
     "execution_count": 28,
     "metadata": {},
     "output_type": "execute_result"
    }
   ],
   "source": [
    "arr"
   ]
  },
  {
   "cell_type": "code",
   "execution_count": 29,
   "id": "04dee0de",
   "metadata": {},
   "outputs": [
    {
     "data": {
      "text/plain": [
       "array([1.23047129e-311, 1.23044121e-311, 0.00000000e+000, 0.00000000e+000,\n",
       "       1.22863556e-311, 5.02034658e+175, 3.40480892e+175, 4.11771615e-033,\n",
       "       8.24247244e-071, 1.32681178e-047, 2.59027903e-144, 3.80985069e+180,\n",
       "       1.14428494e+243, 2.59027907e-144, 7.79952704e-143, 1.42423664e+160,\n",
       "       2.57543226e-056, 2.00416439e-052, 1.10610206e+165, 4.99874558e+217,\n",
       "       5.49419094e-143, 2.91237123e+257, 5.56111702e+180, 5.74015544e+180,\n",
       "       1.94919988e-153, 2.59027858e-144, 2.59903818e-144, 5.27365186e-091,\n",
       "       4.67392686e-062, 1.45003455e-047])"
      ]
     },
     "execution_count": 29,
     "metadata": {},
     "output_type": "execute_result"
    }
   ],
   "source": [
    "# ravel convert the all ndim array into 1d arry\n",
    "arr = arr.ravel() \n",
    "arr"
   ]
  },
  {
   "cell_type": "code",
   "execution_count": 30,
   "id": "c9f90654",
   "metadata": {},
   "outputs": [
    {
     "data": {
      "text/plain": [
       "(30,)"
      ]
     },
     "execution_count": 30,
     "metadata": {},
     "output_type": "execute_result"
    }
   ],
   "source": [
    "arr.shape"
   ]
  },
  {
   "cell_type": "code",
   "execution_count": 31,
   "id": "f0785f18",
   "metadata": {},
   "outputs": [
    {
     "data": {
      "text/plain": [
       "240"
      ]
     },
     "execution_count": 31,
     "metadata": {},
     "output_type": "execute_result"
    }
   ],
   "source": [
    "#This gives all consumed size of the given array\n",
    "arr.nbytes"
   ]
  },
  {
   "cell_type": "code",
   "execution_count": 32,
   "id": "5c785a5f",
   "metadata": {},
   "outputs": [
    {
     "data": {
      "text/plain": [
       "1"
      ]
     },
     "execution_count": 32,
     "metadata": {},
     "output_type": "execute_result"
    }
   ],
   "source": [
    "arr.ndim"
   ]
  },
  {
   "cell_type": "code",
   "execution_count": 33,
   "id": "a29f3092",
   "metadata": {},
   "outputs": [
    {
     "data": {
      "text/plain": [
       "array([[1.23047129e-311, 1.23044121e-311, 0.00000000e+000,\n",
       "        0.00000000e+000, 1.22863556e-311, 5.02034658e+175,\n",
       "        3.40480892e+175, 4.11771615e-033, 8.24247244e-071,\n",
       "        1.32681178e-047, 2.59027903e-144, 3.80985069e+180,\n",
       "        1.14428494e+243, 2.59027907e-144, 7.79952704e-143],\n",
       "       [1.42423664e+160, 2.57543226e-056, 2.00416439e-052,\n",
       "        1.10610206e+165, 4.99874558e+217, 5.49419094e-143,\n",
       "        2.91237123e+257, 5.56111702e+180, 5.74015544e+180,\n",
       "        1.94919988e-153, 2.59027858e-144, 2.59903818e-144,\n",
       "        5.27365186e-091, 4.67392686e-062, 1.45003455e-047]])"
      ]
     },
     "execution_count": 33,
     "metadata": {},
     "output_type": "execute_result"
    }
   ],
   "source": [
    "#Reshape the array\n",
    "arr.reshape(2,15)"
   ]
  },
  {
   "cell_type": "code",
   "execution_count": 34,
   "id": "0f0db5c7",
   "metadata": {},
   "outputs": [
    {
     "data": {
      "text/plain": [
       "array([1, 2, 3])"
      ]
     },
     "execution_count": 34,
     "metadata": {},
     "output_type": "execute_result"
    }
   ],
   "source": [
    "#Creating array with data type \n",
    "arr = np.array([1.1, 2.1, 3.1])\n",
    "newarr = arr.astype(int)\n",
    "newarr"
   ]
  },
  {
   "cell_type": "code",
   "execution_count": 35,
   "id": "3e2b83f0",
   "metadata": {},
   "outputs": [
    {
     "data": {
      "text/plain": [
       "dtype('int32')"
      ]
     },
     "execution_count": 35,
     "metadata": {},
     "output_type": "execute_result"
    }
   ],
   "source": [
    "newarr.dtype"
   ]
  },
  {
   "cell_type": "code",
   "execution_count": 36,
   "id": "1af3e8db",
   "metadata": {
    "scrolled": true
   },
   "outputs": [
    {
     "name": "stdout",
     "output_type": "stream",
     "text": [
      "[b'1' b'2' b'3' b'4']\n",
      "|S1\n"
     ]
    }
   ],
   "source": [
    "arr = np.array([1, 2, 3, 4], dtype='S')\n",
    "\n",
    "print(arr)\n",
    "print(arr.dtype)"
   ]
  },
  {
   "cell_type": "code",
   "execution_count": 37,
   "id": "d931c03f",
   "metadata": {},
   "outputs": [
    {
     "name": "stdout",
     "output_type": "stream",
     "text": [
      "65\n"
     ]
    }
   ],
   "source": [
    "#Generate Random Number\n",
    "\n",
    "from numpy import random\n",
    "\n",
    "x = random.randint(100)\n",
    "\n",
    "print(x)"
   ]
  },
  {
   "cell_type": "code",
   "execution_count": 38,
   "id": "201ddb8d",
   "metadata": {},
   "outputs": [
    {
     "name": "stdout",
     "output_type": "stream",
     "text": [
      "[25 45  5 12 20]\n"
     ]
    }
   ],
   "source": [
    "#creating random 1D array\n",
    "\n",
    "x= random.randint(100, size=(5))\n",
    "\n",
    "print(x)"
   ]
  },
  {
   "cell_type": "code",
   "execution_count": 39,
   "id": "818f3523",
   "metadata": {},
   "outputs": [
    {
     "name": "stdout",
     "output_type": "stream",
     "text": [
      "[[12  4 16 90 71]\n",
      " [80 15 95 22 62]\n",
      " [48 92 13 78 10]]\n"
     ]
    }
   ],
   "source": [
    "#creating random 2D array\n",
    "\n",
    "x = random.randint(100, size=(3, 5))\n",
    "\n",
    "print(x)"
   ]
  }
 ],
 "metadata": {
  "kernelspec": {
   "display_name": "Python 3 (ipykernel)",
   "language": "python",
   "name": "python3"
  },
  "language_info": {
   "codemirror_mode": {
    "name": "ipython",
    "version": 3
   },
   "file_extension": ".py",
   "mimetype": "text/x-python",
   "name": "python",
   "nbconvert_exporter": "python",
   "pygments_lexer": "ipython3",
   "version": "3.9.7"
  }
 },
 "nbformat": 4,
 "nbformat_minor": 5
}
