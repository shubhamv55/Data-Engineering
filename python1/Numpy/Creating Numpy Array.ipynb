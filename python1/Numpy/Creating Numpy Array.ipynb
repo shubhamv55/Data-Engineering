{
 "cells": [
  {
   "cell_type": "markdown",
   "id": "f89e510e",
   "metadata": {},
   "source": [
    "# NumPy "
   ]
  },
  {
   "cell_type": "markdown",
   "id": "6472fa55",
   "metadata": {},
   "source": [
    "#       **Creating a Numpy Array**"
   ]
  },
  {
   "cell_type": "code",
   "execution_count": 1,
   "id": "f0e5a054",
   "metadata": {},
   "outputs": [],
   "source": [
    "import numpy as np"
   ]
  },
  {
   "cell_type": "code",
   "execution_count": 2,
   "id": "ea71c37e",
   "metadata": {},
   "outputs": [
    {
     "name": "stdout",
     "output_type": "stream",
     "text": [
      "1.20.3\n"
     ]
    }
   ],
   "source": [
    "#To check version\n",
    "print(np.__version__)"
   ]
  },
  {
   "cell_type": "code",
   "execution_count": 3,
   "id": "9920afbd",
   "metadata": {
    "scrolled": true
   },
   "outputs": [
    {
     "name": "stdout",
     "output_type": "stream",
     "text": [
      "12\n"
     ]
    }
   ],
   "source": [
    "#0D array\n",
    "arr = np.array(12)\n",
    "print(arr)"
   ]
  },
  {
   "cell_type": "code",
   "execution_count": 4,
   "id": "ea634f09",
   "metadata": {},
   "outputs": [
    {
     "name": "stdout",
     "output_type": "stream",
     "text": [
      "Rank 1 Array: \n",
      " [1 2 3 4]\n",
      "<class 'numpy.ndarray'>\n"
     ]
    }
   ],
   "source": [
    "#1D array\n",
    "arr = np.array([1, 2, 3, 4])\n",
    "print(\"Rank 1 Array: \\n\",arr)\n",
    "\n",
    "#Type of array\n",
    "print(type(arr))"
   ]
  },
  {
   "cell_type": "code",
   "execution_count": 5,
   "id": "22d122db",
   "metadata": {},
   "outputs": [
    {
     "name": "stdout",
     "output_type": "stream",
     "text": [
      "Rank 2 Array: \n",
      " [[1 2 3]\n",
      " [4 5 6]]\n"
     ]
    }
   ],
   "source": [
    "#2D Array\n",
    "arr = np.array([[1, 2, 3],\n",
    "                [4, 5, 6]])\n",
    "print(\"Rank 2 Array: \\n\", arr)"
   ]
  },
  {
   "cell_type": "code",
   "execution_count": 6,
   "id": "b11eeac7",
   "metadata": {},
   "outputs": [
    {
     "name": "stdout",
     "output_type": "stream",
     "text": [
      "[[[1 2 3]\n",
      "  [4 5 6]]\n",
      "\n",
      " [[1 2 3]\n",
      "  [4 5 6]]]\n"
     ]
    }
   ],
   "source": [
    "#3D Array\n",
    "arr = np.array([[[1, 2, 3], [4, 5, 6]], [[1, 2, 3], [4, 5, 6]]])\n",
    "print(arr)"
   ]
  },
  {
   "cell_type": "code",
   "execution_count": 7,
   "id": "cb29c80c",
   "metadata": {},
   "outputs": [
    {
     "name": "stdout",
     "output_type": "stream",
     "text": [
      "\n",
      "Array created using tuple:\n",
      " [1 2 3 4]\n"
     ]
    }
   ],
   "source": [
    "# Use a tuple to create a NumPy array:\n",
    "arr = np.array((1, 2, 3, 4))\n",
    "print(\"\\nArray created using tuple:\\n\", arr)"
   ]
  },
  {
   "cell_type": "code",
   "execution_count": 8,
   "id": "f86a11d6",
   "metadata": {},
   "outputs": [],
   "source": [
    "#Check Number of Dimensions\n",
    "\n",
    "a = np.array(20)\n",
    "b = np.array([1, 2, 3, 4])\n",
    "c = np.array([[1, 2, 3], [4, 5, 6]])\n",
    "d = np.array([[[1, 2, 3], [4, 5, 6]], [[1, 2, 3], [4, 5, 6]]])\n"
   ]
  },
  {
   "cell_type": "code",
   "execution_count": 9,
   "id": "1f844296",
   "metadata": {},
   "outputs": [
    {
     "name": "stdout",
     "output_type": "stream",
     "text": [
      "0\n",
      "1\n",
      "2\n",
      "3\n"
     ]
    }
   ],
   "source": [
    "print(a.ndim)\n",
    "print(b.ndim)\n",
    "print(c.ndim)\n",
    "print(d.ndim)"
   ]
  },
  {
   "cell_type": "code",
   "execution_count": 10,
   "id": "67c9ff7e",
   "metadata": {},
   "outputs": [],
   "source": [
    "zero = np.zeros((2,5))"
   ]
  },
  {
   "cell_type": "code",
   "execution_count": 11,
   "id": "8b236123",
   "metadata": {},
   "outputs": [
    {
     "data": {
      "text/plain": [
       "array([[0., 0., 0., 0., 0.],\n",
       "       [0., 0., 0., 0., 0.]])"
      ]
     },
     "execution_count": 11,
     "metadata": {},
     "output_type": "execute_result"
    }
   ],
   "source": [
    "zero"
   ]
  },
  {
   "cell_type": "code",
   "execution_count": 12,
   "id": "0b0b05f9",
   "metadata": {},
   "outputs": [],
   "source": [
    "rng = np.arange(15)"
   ]
  },
  {
   "cell_type": "code",
   "execution_count": 13,
   "id": "0877f506",
   "metadata": {},
   "outputs": [
    {
     "data": {
      "text/plain": [
       "array([ 0,  1,  2,  3,  4,  5,  6,  7,  8,  9, 10, 11, 12, 13, 14])"
      ]
     },
     "execution_count": 13,
     "metadata": {},
     "output_type": "execute_result"
    }
   ],
   "source": [
    "rng"
   ]
  },
  {
   "cell_type": "code",
   "execution_count": 14,
   "id": "8487ab68",
   "metadata": {},
   "outputs": [
    {
     "data": {
      "text/plain": [
       "(15,)"
      ]
     },
     "execution_count": 14,
     "metadata": {},
     "output_type": "execute_result"
    }
   ],
   "source": [
    "rng.shape"
   ]
  },
  {
   "cell_type": "code",
   "execution_count": 15,
   "id": "16dffb6e",
   "metadata": {},
   "outputs": [
    {
     "data": {
      "text/plain": [
       "dtype('int32')"
      ]
     },
     "execution_count": 15,
     "metadata": {},
     "output_type": "execute_result"
    }
   ],
   "source": [
    "rng.dtype"
   ]
  },
  {
   "cell_type": "code",
   "execution_count": 16,
   "id": "18d568c5",
   "metadata": {},
   "outputs": [],
   "source": [
    "arr = np.arange(0,21,5)"
   ]
  },
  {
   "cell_type": "code",
   "execution_count": 17,
   "id": "c5f4fcd3",
   "metadata": {},
   "outputs": [
    {
     "data": {
      "text/plain": [
       "array([ 0,  5, 10, 15, 20])"
      ]
     },
     "execution_count": 17,
     "metadata": {},
     "output_type": "execute_result"
    }
   ],
   "source": [
    "arr"
   ]
  },
  {
   "cell_type": "code",
   "execution_count": 18,
   "id": "ff961857",
   "metadata": {},
   "outputs": [],
   "source": [
    "lspace = np.linspace(0,100,10)"
   ]
  },
  {
   "cell_type": "code",
   "execution_count": 19,
   "id": "70eeb15e",
   "metadata": {},
   "outputs": [
    {
     "data": {
      "text/plain": [
       "array([  0.        ,  11.11111111,  22.22222222,  33.33333333,\n",
       "        44.44444444,  55.55555556,  66.66666667,  77.77777778,\n",
       "        88.88888889, 100.        ])"
      ]
     },
     "execution_count": 19,
     "metadata": {},
     "output_type": "execute_result"
    }
   ],
   "source": [
    "lspace"
   ]
  },
  {
   "cell_type": "code",
   "execution_count": 20,
   "id": "3ede211c",
   "metadata": {},
   "outputs": [],
   "source": [
    "# To create empty array \n",
    "emp= np.empty((1,5))"
   ]
  },
  {
   "cell_type": "code",
   "execution_count": 21,
   "id": "f6228645",
   "metadata": {},
   "outputs": [
    {
     "data": {
      "text/plain": [
       "array([[0., 0., 0., 0., 0.]])"
      ]
     },
     "execution_count": 21,
     "metadata": {},
     "output_type": "execute_result"
    }
   ],
   "source": [
    "emp"
   ]
  },
  {
   "cell_type": "code",
   "execution_count": 22,
   "id": "5e54bd23",
   "metadata": {},
   "outputs": [],
   "source": [
    "# To create epmty arrya simmilar shape of previously created array\n",
    "emp_like= np.empty_like(lspace)"
   ]
  },
  {
   "cell_type": "code",
   "execution_count": 23,
   "id": "28743e29",
   "metadata": {},
   "outputs": [
    {
     "data": {
      "text/plain": [
       "array([  0.        ,  11.11111111,  22.22222222,  33.33333333,\n",
       "        44.44444444,  55.55555556,  66.66666667,  77.77777778,\n",
       "        88.88888889, 100.        ])"
      ]
     },
     "execution_count": 23,
     "metadata": {},
     "output_type": "execute_result"
    }
   ],
   "source": [
    "emp_like"
   ]
  },
  {
   "cell_type": "code",
   "execution_count": 24,
   "id": "6269ad1e",
   "metadata": {},
   "outputs": [],
   "source": [
    "# To create identical array\n",
    "ide = np.identity((10))"
   ]
  },
  {
   "cell_type": "code",
   "execution_count": 25,
   "id": "ab0cea9d",
   "metadata": {},
   "outputs": [
    {
     "data": {
      "text/plain": [
       "array([[1., 0., 0., 0., 0., 0., 0., 0., 0., 0.],\n",
       "       [0., 1., 0., 0., 0., 0., 0., 0., 0., 0.],\n",
       "       [0., 0., 1., 0., 0., 0., 0., 0., 0., 0.],\n",
       "       [0., 0., 0., 1., 0., 0., 0., 0., 0., 0.],\n",
       "       [0., 0., 0., 0., 1., 0., 0., 0., 0., 0.],\n",
       "       [0., 0., 0., 0., 0., 1., 0., 0., 0., 0.],\n",
       "       [0., 0., 0., 0., 0., 0., 1., 0., 0., 0.],\n",
       "       [0., 0., 0., 0., 0., 0., 0., 1., 0., 0.],\n",
       "       [0., 0., 0., 0., 0., 0., 0., 0., 1., 0.],\n",
       "       [0., 0., 0., 0., 0., 0., 0., 0., 0., 1.]])"
      ]
     },
     "execution_count": 25,
     "metadata": {},
     "output_type": "execute_result"
    }
   ],
   "source": [
    "ide"
   ]
  },
  {
   "cell_type": "code",
   "execution_count": 26,
   "id": "83cd2b44",
   "metadata": {},
   "outputs": [
    {
     "data": {
      "text/plain": [
       "(10, 10)"
      ]
     },
     "execution_count": 26,
     "metadata": {},
     "output_type": "execute_result"
    }
   ],
   "source": [
    "ide.shape"
   ]
  },
  {
   "cell_type": "code",
   "execution_count": 27,
   "id": "d4e0346e",
   "metadata": {},
   "outputs": [],
   "source": [
    "arr = np.empty((3,10))"
   ]
  },
  {
   "cell_type": "code",
   "execution_count": 28,
   "id": "77b5afd5",
   "metadata": {},
   "outputs": [
    {
     "data": {
      "text/plain": [
       "array([[6.75026322e-312, 6.75026474e-312, 0.00000000e+000,\n",
       "        0.00000000e+000, 4.17340416e-306, 5.02034658e+175,\n",
       "        9.20378503e+169, 2.21334108e+160, 3.92650443e-033,\n",
       "        1.34683964e+165],\n",
       "       [2.59027860e-144, 3.80985069e+180, 1.14428494e+243,\n",
       "        2.59027907e-144, 7.79952704e-143, 1.42423664e+160,\n",
       "        2.57543226e-056, 2.00416439e-052, 1.10610206e+165,\n",
       "        4.99874558e+217],\n",
       "       [5.49419094e-143, 2.91237123e+257, 5.56111702e+180,\n",
       "        5.74015544e+180, 1.94919988e-153, 2.59027858e-144,\n",
       "        2.59903818e-144, 5.27365186e-091, 1.83323181e-076,\n",
       "        1.24502515e-047]])"
      ]
     },
     "execution_count": 28,
     "metadata": {},
     "output_type": "execute_result"
    }
   ],
   "source": [
    "arr"
   ]
  },
  {
   "cell_type": "code",
   "execution_count": 29,
   "id": "6fbe7d2a",
   "metadata": {},
   "outputs": [
    {
     "data": {
      "text/plain": [
       "array([6.75026322e-312, 6.75026474e-312, 0.00000000e+000, 0.00000000e+000,\n",
       "       4.17340416e-306, 5.02034658e+175, 9.20378503e+169, 2.21334108e+160,\n",
       "       3.92650443e-033, 1.34683964e+165, 2.59027860e-144, 3.80985069e+180,\n",
       "       1.14428494e+243, 2.59027907e-144, 7.79952704e-143, 1.42423664e+160,\n",
       "       2.57543226e-056, 2.00416439e-052, 1.10610206e+165, 4.99874558e+217,\n",
       "       5.49419094e-143, 2.91237123e+257, 5.56111702e+180, 5.74015544e+180,\n",
       "       1.94919988e-153, 2.59027858e-144, 2.59903818e-144, 5.27365186e-091,\n",
       "       1.83323181e-076, 1.24502515e-047])"
      ]
     },
     "execution_count": 29,
     "metadata": {},
     "output_type": "execute_result"
    }
   ],
   "source": [
    "# ravel convert the all ndim array into 1d arry\n",
    "arr = arr.ravel() \n",
    "arr"
   ]
  },
  {
   "cell_type": "code",
   "execution_count": 30,
   "id": "6778ef9c",
   "metadata": {},
   "outputs": [
    {
     "data": {
      "text/plain": [
       "(30,)"
      ]
     },
     "execution_count": 30,
     "metadata": {},
     "output_type": "execute_result"
    }
   ],
   "source": [
    "arr.shape"
   ]
  },
  {
   "cell_type": "code",
   "execution_count": 31,
   "id": "7381eb2c",
   "metadata": {},
   "outputs": [
    {
     "data": {
      "text/plain": [
       "240"
      ]
     },
     "execution_count": 31,
     "metadata": {},
     "output_type": "execute_result"
    }
   ],
   "source": [
    "#This gives all consumed size of the given array\n",
    "arr.nbytes"
   ]
  },
  {
   "cell_type": "code",
   "execution_count": 32,
   "id": "2990b2f7",
   "metadata": {},
   "outputs": [
    {
     "data": {
      "text/plain": [
       "1"
      ]
     },
     "execution_count": 32,
     "metadata": {},
     "output_type": "execute_result"
    }
   ],
   "source": [
    "arr.ndim"
   ]
  },
  {
   "cell_type": "code",
   "execution_count": 37,
   "id": "252616fa",
   "metadata": {},
   "outputs": [
    {
     "data": {
      "text/plain": [
       "array([[6.75026322e-312, 6.75026474e-312, 0.00000000e+000,\n",
       "        0.00000000e+000, 4.17340416e-306, 5.02034658e+175,\n",
       "        9.20378503e+169, 2.21334108e+160, 3.92650443e-033,\n",
       "        1.34683964e+165, 2.59027860e-144, 3.80985069e+180,\n",
       "        1.14428494e+243, 2.59027907e-144, 7.79952704e-143],\n",
       "       [1.42423664e+160, 2.57543226e-056, 2.00416439e-052,\n",
       "        1.10610206e+165, 4.99874558e+217, 5.49419094e-143,\n",
       "        2.91237123e+257, 5.56111702e+180, 5.74015544e+180,\n",
       "        1.94919988e-153, 2.59027858e-144, 2.59903818e-144,\n",
       "        5.27365186e-091, 1.83323181e-076, 1.24502515e-047]])"
      ]
     },
     "execution_count": 37,
     "metadata": {},
     "output_type": "execute_result"
    }
   ],
   "source": [
    "#Reshape the array\n",
    "arr.reshape(2,15)"
   ]
  },
  {
   "cell_type": "code",
   "execution_count": null,
   "id": "b1825596",
   "metadata": {},
   "outputs": [],
   "source": []
  }
 ],
 "metadata": {
  "kernelspec": {
   "display_name": "Python 3 (ipykernel)",
   "language": "python",
   "name": "python3"
  },
  "language_info": {
   "codemirror_mode": {
    "name": "ipython",
    "version": 3
   },
   "file_extension": ".py",
   "mimetype": "text/x-python",
   "name": "python",
   "nbconvert_exporter": "python",
   "pygments_lexer": "ipython3",
   "version": "3.9.7"
  }
 },
 "nbformat": 4,
 "nbformat_minor": 5
}
