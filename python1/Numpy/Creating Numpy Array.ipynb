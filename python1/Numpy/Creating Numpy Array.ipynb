{
 "cells": [
  {
   "cell_type": "markdown",
   "id": "f89e510e",
   "metadata": {},
   "source": [
    "# NumPy "
   ]
  },
  {
   "cell_type": "markdown",
   "id": "6472fa55",
   "metadata": {},
   "source": [
    "#       **Creating a Numpy Array**"
   ]
  },
  {
   "cell_type": "code",
   "execution_count": 32,
   "id": "f0e5a054",
   "metadata": {},
   "outputs": [],
   "source": [
    "import numpy as np"
   ]
  },
  {
   "cell_type": "code",
   "execution_count": 33,
   "id": "ea71c37e",
   "metadata": {},
   "outputs": [
    {
     "name": "stdout",
     "output_type": "stream",
     "text": [
      "1.20.3\n"
     ]
    }
   ],
   "source": [
    "#To check version\n",
    "print(np.__version__)"
   ]
  },
  {
   "cell_type": "code",
   "execution_count": 34,
   "id": "9920afbd",
   "metadata": {
    "scrolled": true
   },
   "outputs": [
    {
     "name": "stdout",
     "output_type": "stream",
     "text": [
      "12\n"
     ]
    }
   ],
   "source": [
    "#0D array\n",
    "arr = np.array(12)\n",
    "print(arr)"
   ]
  },
  {
   "cell_type": "code",
   "execution_count": 35,
   "id": "ea634f09",
   "metadata": {},
   "outputs": [
    {
     "name": "stdout",
     "output_type": "stream",
     "text": [
      "Rank 1 Array: \n",
      " [1 2 3 4]\n",
      "<class 'numpy.ndarray'>\n"
     ]
    }
   ],
   "source": [
    "#1D array\n",
    "arr = np.array([1, 2, 3, 4])\n",
    "print(\"Rank 1 Array: \\n\",arr)\n",
    "\n",
    "#Type of array\n",
    "print(type(arr))"
   ]
  },
  {
   "cell_type": "code",
   "execution_count": 36,
   "id": "22d122db",
   "metadata": {},
   "outputs": [
    {
     "name": "stdout",
     "output_type": "stream",
     "text": [
      "Rank 2 Array: \n",
      " [[1 2 3]\n",
      " [4 5 6]]\n"
     ]
    }
   ],
   "source": [
    "#2D Array\n",
    "arr = np.array([[1, 2, 3],\n",
    "                [4, 5, 6]])\n",
    "print(\"Rank 2 Array: \\n\", arr)"
   ]
  },
  {
   "cell_type": "code",
   "execution_count": 37,
   "id": "b11eeac7",
   "metadata": {},
   "outputs": [
    {
     "name": "stdout",
     "output_type": "stream",
     "text": [
      "[[[1 2 3]\n",
      "  [4 5 6]]\n",
      "\n",
      " [[1 2 3]\n",
      "  [4 5 6]]]\n"
     ]
    }
   ],
   "source": [
    "#3D Array\n",
    "arr = np.array([[[1, 2, 3], [4, 5, 6]], [[1, 2, 3], [4, 5, 6]]])\n",
    "print(arr)"
   ]
  },
  {
   "cell_type": "code",
   "execution_count": 38,
   "id": "cb29c80c",
   "metadata": {},
   "outputs": [
    {
     "name": "stdout",
     "output_type": "stream",
     "text": [
      "\n",
      "Array created using tuple:\n",
      " [1 2 3 4]\n"
     ]
    }
   ],
   "source": [
    "# Use a tuple to create a NumPy array:\n",
    "arr = np.array((1, 2, 3, 4))\n",
    "print(\"\\nArray created using tuple:\\n\", arr)"
   ]
  },
  {
   "cell_type": "code",
   "execution_count": 39,
   "id": "f86a11d6",
   "metadata": {},
   "outputs": [],
   "source": [
    "#Check Number of Dimensions\n",
    "\n",
    "a = np.array(20)\n",
    "b = np.array([1, 2, 3, 4])\n",
    "c = np.array([[1, 2, 3], [4, 5, 6]])\n",
    "d = np.array([[[1, 2, 3], [4, 5, 6]], [[1, 2, 3], [4, 5, 6]]])\n"
   ]
  },
  {
   "cell_type": "code",
   "execution_count": 40,
   "id": "1f844296",
   "metadata": {},
   "outputs": [
    {
     "name": "stdout",
     "output_type": "stream",
     "text": [
      "0\n",
      "1\n",
      "2\n",
      "3\n"
     ]
    }
   ],
   "source": [
    "print(a.ndim)\n",
    "print(b.ndim)\n",
    "print(c.ndim)\n",
    "print(d.ndim)"
   ]
  }
 ],
 "metadata": {
  "kernelspec": {
   "display_name": "Python 3 (ipykernel)",
   "language": "python",
   "name": "python3"
  },
  "language_info": {
   "codemirror_mode": {
    "name": "ipython",
    "version": 3
   },
   "file_extension": ".py",
   "mimetype": "text/x-python",
   "name": "python",
   "nbconvert_exporter": "python",
   "pygments_lexer": "ipython3",
   "version": "3.9.7"
  }
 },
 "nbformat": 4,
 "nbformat_minor": 5
}
